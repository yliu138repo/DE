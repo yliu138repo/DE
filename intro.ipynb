{
 "cells": [
  {
   "cell_type": "code",
   "execution_count": 1,
   "metadata": {},
   "outputs": [],
   "source": [
    "import pyspark\n",
    "from pyspark.sql import SparkSession\n",
    "import pandas as pd"
   ]
  },
  {
   "cell_type": "code",
   "execution_count": 2,
   "metadata": {},
   "outputs": [
    {
     "name": "stderr",
     "output_type": "stream",
     "text": [
      "Setting default log level to \"WARN\".\n",
      "To adjust logging level use sc.setLogLevel(newLevel). For SparkR, use setLogLevel(newLevel).\n"
     ]
    },
    {
     "name": "stdout",
     "output_type": "stream",
     "text": [
      "25/04/09 14:46:20 WARN NativeCodeLoader: Unable to load native-hadoop library for your platform... using builtin-java classes where applicable\n"
     ]
    }
   ],
   "source": [
    "spark = SparkSession.builder.appName(\"Spark introduction\").getOrCreate()\n",
    "dy_pyspark = spark.read.csv(\"tips.csv\", header=True, inferSchema=True)"
   ]
  },
  {
   "cell_type": "code",
   "execution_count": 3,
   "metadata": {},
   "outputs": [
    {
     "name": "stdout",
     "output_type": "stream",
     "text": [
      "+----------+----+------+------+---+------+----+------------------+\n",
      "|total_bill| tip|   sex|smoker|day|  time|size|    top_bill_ratio|\n",
      "+----------+----+------+------+---+------+----+------------------+\n",
      "|     16.99|1.01|Female|    No|Sun|Dinner|   2|5.9446733372572105|\n",
      "|     10.34|1.66|  Male|    No|Sun|Dinner|   3|16.054158607350097|\n",
      "|     21.01| 3.5|  Male|    No|Sun|Dinner|   3|16.658733936220845|\n",
      "|     23.68|3.31|  Male|    No|Sun|Dinner|   2| 13.97804054054054|\n",
      "|     24.59|3.61|Female|    No|Sun|Dinner|   4|14.680764538430255|\n",
      "+----------+----+------+------+---+------+----+------------------+\n",
      "only showing top 5 rows\n",
      "\n",
      "None\n"
     ]
    }
   ],
   "source": [
    "dy_pyspark = dy_pyspark.withColumn(\"top_bill_ratio\", (dy_pyspark[\"tip\"]/dy_pyspark[\"total_bill\"] * 100))\n",
    "print(dy_pyspark.show(5))"
   ]
  },
  {
   "cell_type": "code",
   "execution_count": 4,
   "metadata": {},
   "outputs": [
    {
     "name": "stdout",
     "output_type": "stream",
     "text": [
      "+----------+----+------+------+---+------+----+\n",
      "|total_bill| tip|   sex|smoker|day|  time|size|\n",
      "+----------+----+------+------+---+------+----+\n",
      "|     16.99|1.01|Female|    No|Sun|Dinner|   2|\n",
      "|     10.34|1.66|  Male|    No|Sun|Dinner|   3|\n",
      "|     21.01| 3.5|  Male|    No|Sun|Dinner|   3|\n",
      "|     23.68|3.31|  Male|    No|Sun|Dinner|   2|\n",
      "|     24.59|3.61|Female|    No|Sun|Dinner|   4|\n",
      "+----------+----+------+------+---+------+----+\n",
      "only showing top 5 rows\n",
      "\n",
      "None\n"
     ]
    }
   ],
   "source": [
    "dy_pyspark = dy_pyspark.drop('top_bill_ratio')\n",
    "print(dy_pyspark.show(5))"
   ]
  },
  {
   "cell_type": "code",
   "execution_count": 5,
   "metadata": {},
   "outputs": [
    {
     "name": "stdout",
     "output_type": "stream",
     "text": [
      "+----------+----+------+------+---+------+----+\n",
      "|total_bill| tip|gender|smoker|day|  time|size|\n",
      "+----------+----+------+------+---+------+----+\n",
      "|     16.99|1.01|Female|    No|Sun|Dinner|   2|\n",
      "|     10.34|1.66|  Male|    No|Sun|Dinner|   3|\n",
      "|     21.01| 3.5|  Male|    No|Sun|Dinner|   3|\n",
      "|     23.68|3.31|  Male|    No|Sun|Dinner|   2|\n",
      "|     24.59|3.61|Female|    No|Sun|Dinner|   4|\n",
      "+----------+----+------+------+---+------+----+\n",
      "only showing top 5 rows\n",
      "\n"
     ]
    }
   ],
   "source": [
    "dy_pyspark.withColumnRenamed('sex', 'gender').show(5)"
   ]
  },
  {
   "cell_type": "code",
   "execution_count": 8,
   "metadata": {},
   "outputs": [
    {
     "name": "stdout",
     "output_type": "stream",
     "text": [
      "+----------+----+------+------+---+------+----+\n",
      "|total_bill| tip|gender|smoker|day| event|size|\n",
      "+----------+----+------+------+---+------+----+\n",
      "|     16.99|1.01|Female|    No|Sun|Dinner|   2|\n",
      "|     10.34|1.66|  Male|    No|Sun|Dinner|   3|\n",
      "|     21.01| 3.5|  Male|    No|Sun|Dinner|   3|\n",
      "|     23.68|3.31|  Male|    No|Sun|Dinner|   2|\n",
      "|     24.59|3.61|Female|    No|Sun|Dinner|   4|\n",
      "+----------+----+------+------+---+------+----+\n",
      "only showing top 5 rows\n",
      "\n"
     ]
    },
    {
     "name": "stdout",
     "output_type": "stream",
     "text": [
      "25/04/09 16:16:02 WARN HeartbeatReceiver: Removing executor driver with no recent heartbeats: 1487936 ms exceeds timeout 120000 ms\n",
      "25/04/09 16:16:02 WARN SparkContext: Killing executors is not supported by current scheduler.\n"
     ]
    }
   ],
   "source": [
    "dy_pyspark.withColumnRenamed('sex', 'gender')\\\n",
    "    .withColumnRenamed('time', 'event').show(5)"
   ]
  },
  {
   "cell_type": "code",
   "execution_count": null,
   "metadata": {},
   "outputs": [],
   "source": []
  },
  {
   "cell_type": "markdown",
   "metadata": {},
   "source": [
    "# handling missing values"
   ]
  },
  {
   "cell_type": "code",
   "execution_count": 16,
   "metadata": {},
   "outputs": [
    {
     "name": "stdout",
     "output_type": "stream",
     "text": [
      "+----------+----+------+------+---+------+----+\n",
      "|total_bill| tip|   sex|smoker|day|  time|size|\n",
      "+----------+----+------+------+---+------+----+\n",
      "|     16.99|1.01|Female|    No|Sun|Dinner| 2.0|\n",
      "|     10.34|1.66|  Male|    No|Sun|Dinner| 3.0|\n",
      "|     21.01| 3.5|  Male|    No|Sun|Dinner| 3.0|\n",
      "|     23.68|3.31|  Male|    No|Sun|Dinner| 2.0|\n",
      "|     24.59|3.61|Female|    No|Sun|Dinner| 4.0|\n",
      "|     25.29|4.71|  Male|    No|Sun|Dinner| 4.0|\n",
      "|      8.77| 2.0|  Male|    No|Sun|Dinner| 2.0|\n",
      "|     26.88|3.12|  Male|    No|Sun|Dinner| 4.0|\n",
      "|     15.04|1.96|  Male|    No|Sun|Dinner| 2.0|\n",
      "|     14.78|3.23|  Male|    No|Sun|Dinner| 2.0|\n",
      "|     10.27|1.71|  Male|    No|Sun|Dinner| 2.0|\n",
      "|     35.26| 5.0|Female|    No|Sun|Dinner| 4.0|\n",
      "|     15.42|1.57|  Male|    No|Sun|Dinner| 2.0|\n",
      "|     18.43| 3.0|  Male|    No|Sun|Dinner| 4.0|\n",
      "|     14.83|3.02|Female|    No|Sun|Dinner| 2.0|\n",
      "|     21.58|3.92|  Male|    No|Sun|Dinner| 2.0|\n",
      "|     10.33|1.67|Female|    No|Sun|Dinner| 3.0|\n",
      "|     16.29|3.71|  Male|    No|Sun|Dinner| 3.0|\n",
      "|     16.97| 3.5|Female|    No|Sun|Dinner| 3.0|\n",
      "|     20.65|3.35|  Male|    No|Sat|Dinner| 3.0|\n",
      "+----------+----+------+------+---+------+----+\n",
      "only showing top 20 rows\n",
      "\n"
     ]
    },
    {
     "data": {
      "text/plain": [
       "112"
      ]
     },
     "execution_count": 16,
     "metadata": {},
     "output_type": "execute_result"
    }
   ],
   "source": [
    "dy_pyspark = spark.read.csv(\"trips_missing.csv\", header=True, inferSchema=True)\n",
    "dy_pyspark.show(20)\n",
    "dy_pyspark.count()\n",
    "# dy_pyspark.shape()"
   ]
  },
  {
   "cell_type": "markdown",
   "metadata": {},
   "source": [
    "## Removing observations with null values"
   ]
  },
  {
   "cell_type": "code",
   "execution_count": 21,
   "metadata": {},
   "outputs": [
    {
     "name": "stdout",
     "output_type": "stream",
     "text": [
      "+----------+----+------+------+---+------+----+\n",
      "|total_bill| tip|   sex|smoker|day|  time|size|\n",
      "+----------+----+------+------+---+------+----+\n",
      "|     16.99|1.01|Female|    No|Sun|Dinner| 2.0|\n",
      "|     10.34|1.66|  Male|    No|Sun|Dinner| 3.0|\n",
      "|     21.01| 3.5|  Male|    No|Sun|Dinner| 3.0|\n",
      "|     23.68|3.31|  Male|    No|Sun|Dinner| 2.0|\n",
      "|     24.59|3.61|Female|    No|Sun|Dinner| 4.0|\n",
      "|     25.29|4.71|  Male|    No|Sun|Dinner| 4.0|\n",
      "|      8.77| 2.0|  Male|    No|Sun|Dinner| 2.0|\n",
      "|     26.88|3.12|  Male|    No|Sun|Dinner| 4.0|\n",
      "|     15.04|1.96|  Male|    No|Sun|Dinner| 2.0|\n",
      "|     14.78|3.23|  Male|    No|Sun|Dinner| 2.0|\n",
      "|     10.27|1.71|  Male|    No|Sun|Dinner| 2.0|\n",
      "|     35.26| 5.0|Female|    No|Sun|Dinner| 4.0|\n",
      "|     15.42|1.57|  Male|    No|Sun|Dinner| 2.0|\n",
      "|     18.43| 3.0|  Male|    No|Sun|Dinner| 4.0|\n",
      "|     14.83|3.02|Female|    No|Sun|Dinner| 2.0|\n",
      "|     21.58|3.92|  Male|    No|Sun|Dinner| 2.0|\n",
      "|     10.33|1.67|Female|    No|Sun|Dinner| 3.0|\n",
      "|     16.29|3.71|  Male|    No|Sun|Dinner| 3.0|\n",
      "|     16.97| 3.5|Female|    No|Sun|Dinner| 3.0|\n",
      "|     20.65|3.35|  Male|    No|Sat|Dinner| 3.0|\n",
      "+----------+----+------+------+---+------+----+\n",
      "only showing top 20 rows\n",
      "\n"
     ]
    }
   ],
   "source": [
    "clean_df = dy_pyspark.na.drop()\n",
    "clean_df.count()\n",
    "clean_df.show()"
   ]
  },
  {
   "cell_type": "code",
   "execution_count": 23,
   "metadata": {},
   "outputs": [
    {
     "data": {
      "text/plain": [
       "112"
      ]
     },
     "execution_count": 23,
     "metadata": {},
     "output_type": "execute_result"
    }
   ],
   "source": [
    "dy_pyspark.na.drop(how=\"all\").count()"
   ]
  },
  {
   "cell_type": "code",
   "execution_count": 25,
   "metadata": {},
   "outputs": [
    {
     "data": {
      "text/plain": [
       "110"
      ]
     },
     "execution_count": 25,
     "metadata": {},
     "output_type": "execute_result"
    }
   ],
   "source": [
    "dy_pyspark.na.drop(how=\"any\", thresh=2).count()"
   ]
  },
  {
   "cell_type": "code",
   "execution_count": 27,
   "metadata": {},
   "outputs": [
    {
     "data": {
      "text/plain": [
       "108"
      ]
     },
     "execution_count": 27,
     "metadata": {},
     "output_type": "execute_result"
    }
   ],
   "source": [
    "dy_pyspark.na.drop(how=\"any\", subset=['tip']).count()"
   ]
  },
  {
   "cell_type": "markdown",
   "metadata": {},
   "source": []
  },
  {
   "cell_type": "code",
   "execution_count": 31,
   "metadata": {},
   "outputs": [
    {
     "data": {
      "text/plain": [
       "[Row(total_bill='18.28', tip=4.0, sex='Male', smoker='Missing', day='Missing', time='Lunch', size=2.0),\n",
       " Row(total_bill='Missing', tip=4.71, sex='Male', smoker='No', day='Missing', time='Dinner', size=4.0),\n",
       " Row(total_bill='23.68', tip=3.31, sex='Male', smoker='No', day='Missing', time='Dinner', size=None),\n",
       " Row(total_bill='17.78', tip=3.27, sex='Male', smoker='No', day='Missing', time='Missing', size=2.0),\n",
       " Row(total_bill='32.4', tip=6.0, sex='Missing', smoker='No', day='Missing', time='Dinner', size=4.0),\n",
       " Row(total_bill='34.81', tip=5.2, sex='Missing', smoker='No', day='Sun', time='Dinner', size=None),\n",
       " Row(total_bill='16.93', tip=3.07, sex='Female', smoker='Missing', day='Missing', time='Dinner', size=3.0),\n",
       " Row(total_bill='22.23', tip=5.0, sex='Male', smoker='No', day='Sun', time='Missing', size=None),\n",
       " Row(total_bill='Missing', tip=None, sex='Male', smoker='Yes', day='Fri', time='Dinner', size=2.0),\n",
       " Row(total_bill='Missing', tip=2.0, sex='Male', smoker='No', day='Thur', time='Lunch', size=None)]"
      ]
     },
     "execution_count": 31,
     "metadata": {},
     "output_type": "execute_result"
    }
   ],
   "source": [
    "dy_pyspark.na.fill(\"Missing\").tail(10)"
   ]
  },
  {
   "cell_type": "code",
   "execution_count": 39,
   "metadata": {},
   "outputs": [
    {
     "name": "stdout",
     "output_type": "stream",
     "text": [
      "root\n",
      " |-- total_bill: double (nullable = true)\n",
      " |-- tip: double (nullable = true)\n",
      " |-- sex: string (nullable = true)\n",
      " |-- smoker: string (nullable = true)\n",
      " |-- day: string (nullable = true)\n",
      " |-- time: string (nullable = true)\n",
      " |-- size: double (nullable = true)\n",
      "\n"
     ]
    }
   ],
   "source": [
    "dy_pyspark = dy_pyspark.withColumn(\"total_bill\", dy_pyspark[\"total_bill\"].cast(\"double\"))\n",
    "dy_pyspark.printSchema()\n",
    "# dy_pyspark.show()"
   ]
  },
  {
   "cell_type": "code",
   "execution_count": 40,
   "metadata": {},
   "outputs": [
    {
     "data": {
      "text/plain": [
       "[Row(total_bill=10.33, tip=1.67, sex=None, smoker='No', day='Sun', time='Dinner', size=None, total_bill_imputed=10.33, tip_imputed=1.67),\n",
       " Row(total_bill=None, tip=3.21, sex='Male', smoker='Yes', day='Sat', time='Dinner', size=None, total_bill_imputed=19.757980769230763, tip_imputed=3.21),\n",
       " Row(total_bill=None, tip=3.0, sex=None, smoker='No', day='Thur', time='Lunch', size=2.0, total_bill_imputed=19.757980769230763, tip_imputed=3.0),\n",
       " Row(total_bill=None, tip=2.2, sex='Female', smoker='No', day=None, time='Dinner', size=2.0, total_bill_imputed=19.757980769230763, tip_imputed=2.2),\n",
       " Row(total_bill=39.42, tip=7.58, sex=None, smoker='No', day=None, time='Dinner', size=4.0, total_bill_imputed=39.42, tip_imputed=7.58),\n",
       " Row(total_bill=10.27, tip=1.71, sex=None, smoker='No', day='Sun', time='Dinner', size=None, total_bill_imputed=10.27, tip_imputed=1.71),\n",
       " Row(total_bill=None, tip=None, sex=None, smoker=None, day=None, time=None, size=None, total_bill_imputed=19.757980769230763, tip_imputed=3.1556481481481473),\n",
       " Row(total_bill=16.31, tip=2.0, sex='Male', smoker='No', day='Sat', time=None, size=None, total_bill_imputed=16.31, tip_imputed=2.0),\n",
       " Row(total_bill=12.69, tip=None, sex=None, smoker='No', day='Sat', time='Dinner', size=2.0, total_bill_imputed=12.69, tip_imputed=3.1556481481481473),\n",
       " Row(total_bill=18.29, tip=3.76, sex=None, smoker=None, day='Sat', time='Dinner', size=4.0, total_bill_imputed=18.29, tip_imputed=3.76),\n",
       " Row(total_bill=18.28, tip=4.0, sex='Male', smoker=None, day=None, time='Lunch', size=2.0, total_bill_imputed=18.28, tip_imputed=4.0),\n",
       " Row(total_bill=None, tip=4.71, sex='Male', smoker='No', day=None, time='Dinner', size=4.0, total_bill_imputed=19.757980769230763, tip_imputed=4.71),\n",
       " Row(total_bill=23.68, tip=3.31, sex='Male', smoker='No', day=None, time='Dinner', size=None, total_bill_imputed=23.68, tip_imputed=3.31),\n",
       " Row(total_bill=17.78, tip=3.27, sex='Male', smoker='No', day=None, time=None, size=2.0, total_bill_imputed=17.78, tip_imputed=3.27),\n",
       " Row(total_bill=32.4, tip=6.0, sex=None, smoker='No', day=None, time='Dinner', size=4.0, total_bill_imputed=32.4, tip_imputed=6.0),\n",
       " Row(total_bill=34.81, tip=5.2, sex=None, smoker='No', day='Sun', time='Dinner', size=None, total_bill_imputed=34.81, tip_imputed=5.2),\n",
       " Row(total_bill=16.93, tip=3.07, sex='Female', smoker=None, day=None, time='Dinner', size=3.0, total_bill_imputed=16.93, tip_imputed=3.07),\n",
       " Row(total_bill=22.23, tip=5.0, sex='Male', smoker='No', day='Sun', time=None, size=None, total_bill_imputed=22.23, tip_imputed=5.0),\n",
       " Row(total_bill=None, tip=None, sex='Male', smoker='Yes', day='Fri', time='Dinner', size=2.0, total_bill_imputed=19.757980769230763, tip_imputed=3.1556481481481473),\n",
       " Row(total_bill=None, tip=2.0, sex='Male', smoker='No', day='Thur', time='Lunch', size=None, total_bill_imputed=19.757980769230763, tip_imputed=2.0)]"
      ]
     },
     "execution_count": 40,
     "metadata": {},
     "output_type": "execute_result"
    }
   ],
   "source": [
    "from pyspark.ml.feature import Imputer\n",
    "imputer = Imputer(\n",
    "    inputCols=[\"total_bill\", \"tip\"],\n",
    "    outputCols=[\"{}_imputed\".format(c) for c in [\"total_bill\", \"tip\"]]\n",
    ").setStrategy(\"mean\")\n",
    "\n",
    "imputer.fit(dy_pyspark).transform(dy_pyspark).tail(20)"
   ]
  },
  {
   "cell_type": "code",
   "execution_count": 41,
   "metadata": {},
   "outputs": [
    {
     "name": "stdout",
     "output_type": "stream",
     "text": [
      "+----------+----+------+------+---+------+----+\n",
      "|total_bill| tip|   sex|smoker|day|  time|size|\n",
      "+----------+----+------+------+---+------+----+\n",
      "|     16.99|1.01|Female|    No|Sun|Dinner| 2.0|\n",
      "|     10.34|1.66|  Male|    No|Sun|Dinner| 3.0|\n",
      "|      8.77| 2.0|  Male|    No|Sun|Dinner| 2.0|\n",
      "|     15.04|1.96|  Male|    No|Sun|Dinner| 2.0|\n",
      "|     10.27|1.71|  Male|    No|Sun|Dinner| 2.0|\n",
      "+----------+----+------+------+---+------+----+\n",
      "only showing top 5 rows\n",
      "\n"
     ]
    }
   ],
   "source": [
    "df = dy_pyspark\n",
    "df.filter(\"tip <= 2\").show(5)"
   ]
  },
  {
   "cell_type": "code",
   "execution_count": 42,
   "metadata": {},
   "outputs": [
    {
     "name": "stdout",
     "output_type": "stream",
     "text": [
      "+----------+----+\n",
      "|total_bill| tip|\n",
      "+----------+----+\n",
      "|     16.99|1.01|\n",
      "|     10.34|1.66|\n",
      "|      8.77| 2.0|\n",
      "|     15.04|1.96|\n",
      "|     10.27|1.71|\n",
      "+----------+----+\n",
      "only showing top 5 rows\n",
      "\n"
     ]
    }
   ],
   "source": [
    "df.filter(\"tip <= 2\").select([\"total_bill\", \"tip\"]).show(5)"
   ]
  },
  {
   "cell_type": "code",
   "execution_count": 44,
   "metadata": {},
   "outputs": [
    {
     "name": "stdout",
     "output_type": "stream",
     "text": [
      "+----------+----+\n",
      "|total_bill| tip|\n",
      "+----------+----+\n",
      "|     35.26| 5.0|\n",
      "|     39.42|7.58|\n",
      "|     31.27| 5.0|\n",
      "|      30.4| 5.6|\n",
      "|     22.23| 5.0|\n",
      "|      32.4| 6.0|\n",
      "|     34.81| 5.2|\n",
      "|     48.27|6.73|\n",
      "|      3.07| 1.0|\n",
      "|     25.28| 5.0|\n",
      "|     32.68| 5.0|\n",
      "|     34.83|5.17|\n",
      "|     24.71|5.85|\n",
      "|     39.42|7.58|\n",
      "|      32.4| 6.0|\n",
      "|     34.81| 5.2|\n",
      "|     22.23| 5.0|\n",
      "+----------+----+\n",
      "\n"
     ]
    }
   ],
   "source": [
    "df.filter((df['tip'] <= 1) | (df['tip'] >= 5))\\\n",
    "    .select(['total_bill', 'tip']).show(20)"
   ]
  },
  {
   "cell_type": "code",
   "execution_count": 47,
   "metadata": {},
   "outputs": [
    {
     "name": "stdout",
     "output_type": "stream",
     "text": [
      "+------+------------------+--------+---------+\n",
      "|   sex|   sum(total_bill)|sum(tip)|sum(size)|\n",
      "+------+------------------+--------+---------+\n",
      "|Female|            464.16|   72.69|     63.0|\n",
      "|  Male|1432.4600000000003|   239.2|    184.0|\n",
      "+------+------------------+--------+---------+\n",
      "\n"
     ]
    }
   ],
   "source": [
    "df = df.na.drop(subset=[\"sex\"])\n",
    "df.groupBy(\"sex\").sum().show()"
   ]
  },
  {
   "cell_type": "code",
   "execution_count": 48,
   "metadata": {},
   "outputs": [
    {
     "name": "stdout",
     "output_type": "stream",
     "text": [
      "+----+--------+\n",
      "| day|max(tip)|\n",
      "+----+--------+\n",
      "|Thur|    5.85|\n",
      "| Sun|     6.0|\n",
      "|null|    4.71|\n",
      "| Sat|    7.58|\n",
      "| Fri|     3.0|\n",
      "+----+--------+\n",
      "\n"
     ]
    }
   ],
   "source": [
    "df.groupBy(\"day\").max().select([\"day\", \"max(tip)\"]).show()"
   ]
  },
  {
   "cell_type": "code",
   "execution_count": 49,
   "metadata": {},
   "outputs": [
    {
     "name": "stdout",
     "output_type": "stream",
     "text": [
      "+----+-----+\n",
      "| day|count|\n",
      "+----+-----+\n",
      "|Thur|   14|\n",
      "| Sun|   35|\n",
      "|null|    6|\n",
      "| Sat|   45|\n",
      "| Fri|    2|\n",
      "+----+-----+\n",
      "\n"
     ]
    }
   ],
   "source": [
    "df.groupBy(\"day\").count().show()"
   ]
  },
  {
   "cell_type": "code",
   "execution_count": 51,
   "metadata": {},
   "outputs": [
    {
     "name": "stdout",
     "output_type": "stream",
     "text": [
      "+------------------+\n",
      "|          sum(tip)|\n",
      "+------------------+\n",
      "|311.88999999999993|\n",
      "+------------------+\n",
      "\n"
     ]
    }
   ],
   "source": [
    "df.agg({\"tip\": \"sum\"}).show()"
   ]
  },
  {
   "cell_type": "code",
   "execution_count": 52,
   "metadata": {},
   "outputs": [
    {
     "name": "stdout",
     "output_type": "stream",
     "text": [
      "+------+--------+---------------+\n",
      "|   sex|sum(tip)|max(total_bill)|\n",
      "+------+--------+---------------+\n",
      "|Female|   72.69|          35.26|\n",
      "|  Male|   239.2|          48.27|\n",
      "+------+--------+---------------+\n",
      "\n"
     ]
    }
   ],
   "source": [
    "df.groupBy(\"sex\").agg({\"tip\": \"sum\", \"total_bill\": \"max\"}).show()"
   ]
  },
  {
   "cell_type": "code",
   "execution_count": 53,
   "metadata": {},
   "outputs": [],
   "source": [
    "spark.stop()"
   ]
  },
  {
   "cell_type": "code",
   "execution_count": null,
   "metadata": {},
   "outputs": [],
   "source": []
  }
 ],
 "metadata": {
  "kernelspec": {
   "display_name": ".venv",
   "language": "python",
   "name": "python3"
  },
  "language_info": {
   "codemirror_mode": {
    "name": "ipython",
    "version": 3
   },
   "file_extension": ".py",
   "mimetype": "text/x-python",
   "name": "python",
   "nbconvert_exporter": "python",
   "pygments_lexer": "ipython3",
   "version": "3.10.17"
  }
 },
 "nbformat": 4,
 "nbformat_minor": 2
}
